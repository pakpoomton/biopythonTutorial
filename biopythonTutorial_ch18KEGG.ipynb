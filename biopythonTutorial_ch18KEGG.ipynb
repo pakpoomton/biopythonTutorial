{
 "cells": [
  {
   "cell_type": "code",
   "execution_count": 5,
   "id": "miniature-might",
   "metadata": {},
   "outputs": [
    {
     "name": "stdout",
     "output_type": "stream",
     "text": [
      "['Isomerases;', 'Intramolecular transferases;', 'Phosphotransferases (phosphomutases)']\n",
      "5.4.2.2\n"
     ]
    }
   ],
   "source": [
    "# downloading & querying enzyme \n",
    "from Bio.KEGG import REST\n",
    "from Bio.KEGG import Enzyme\n",
    "request = REST.kegg_get(\"ec:5.4.2.2\")\n",
    "open(\"ec_5.4.2.2.txt\", \"w\").write(request.read())\n",
    "records = Enzyme.parse(open(\"ec_5.4.2.2.txt\"))\n",
    "record = list(records)[0]\n",
    "print(record.classname)\n",
    "print(record.entry)"
   ]
  },
  {
   "cell_type": "code",
   "execution_count": 11,
   "id": "divided-round",
   "metadata": {},
   "outputs": [
    {
     "name": "stdout",
     "output_type": "stream",
     "text": [
      "There are 3 repair pathways and 78 repair genes. The genes are:\n",
      "OGG1, NTHL1, NEIL1, NEIL2, NEIL3, UNG, SMUG1, MUTYH, MPG, MBD4, TDG, APEX1, APEX2, POLB, POLL, HMGB1, XRCC1, PCNA, POLD1, POLD2, POLD3, POLD4, POLE, POLE2, POLE3, POLE4, LIG1, LIG3, PARP1, PARP2, PARP3, PARP4, FEN1, RBX1, CUL4B, CUL4A, DDB1, DDB2, XPC, RAD23B, RAD23A, CETN2, ERCC8, ERCC6, CDK7, MNAT1, CCNH, ERCC3, ERCC2, GTF2H5, GTF2H1, GTF2H2, GTF2H2C_2, GTF2H2C, GTF2H3, GTF2H4, ERCC5, BIVM-ERCC5, XPA, RPA1, RPA2, RPA3, RPA4, ERCC4, ERCC1, RFC1, RFC4, RFC2, RFC5, RFC3, SSBP1, PMS2, MLH1, MSH6, MSH2, MSH3, MLH3, EXO1\n"
     ]
    }
   ],
   "source": [
    "##  This will demonstrate how to extract a unique set of all human pathway gene symbols which relate to DNA repair. \n",
    "from Bio.KEGG import REST\n",
    "\n",
    "# 1. get the list of all human pathway\n",
    "human_pathways = REST.kegg_list(\"pathway\", \"hsa\").read()\n",
    "\n",
    "# 2. Filter all human pathways for repair pathways\n",
    "repair_pathways = []\n",
    "for line in human_pathways.rstrip().split(\"\\n\"):\n",
    "    entry, description = line.split(\"\\t\")\n",
    "    if \"repair\" in description:\n",
    "        repair_pathways.append(entry)\n",
    "\n",
    "# 3. Get the genes for pathways and add them to a list\n",
    "repair_genes = []\n",
    "for pathway in repair_pathways:\n",
    "    pathway_file = REST.kegg_get(pathway).read()  # query and read each pathway\n",
    "\n",
    "    # iterate through each KEGG pathway file, keeping track of which section\n",
    "    # of the file we're in, only read the gene in each pathway\n",
    "    current_section = None\n",
    "    for line in pathway_file.rstrip().split(\"\\n\"):\n",
    "        section = line[:12].strip()  # section names are within 12 columns\n",
    "        if not section == \"\":\n",
    "            current_section = section\n",
    "\n",
    "        if current_section == \"GENE\":\n",
    "            gene_identifiers, gene_description = line[12:].split(\"; \")\n",
    "            gene_id, gene_symbol = gene_identifiers.split()\n",
    "\n",
    "            if not gene_symbol in repair_genes:\n",
    "                repair_genes.append(gene_symbol)\n",
    "\n",
    "print(\n",
    "    \"There are %d repair pathways and %d repair genes. The genes are:\"\n",
    "    % (len(repair_pathways), len(repair_genes))\n",
    ")\n",
    "print(\", \".join(repair_genes))"
   ]
  },
  {
   "cell_type": "code",
   "execution_count": 9,
   "id": "north-stupid",
   "metadata": {},
   "outputs": [
    {
     "name": "stdout",
     "output_type": "stream",
     "text": [
      "3\n",
      "22148\n"
     ]
    }
   ],
   "source": [
    "print(len(repair_pathways))\n",
    "print(len(human_pathways))"
   ]
  },
  {
   "cell_type": "code",
   "execution_count": null,
   "id": "quantitative-graduate",
   "metadata": {},
   "outputs": [],
   "source": []
  }
 ],
 "metadata": {
  "kernelspec": {
   "display_name": "Python 3",
   "language": "python",
   "name": "python3"
  },
  "language_info": {
   "codemirror_mode": {
    "name": "ipython",
    "version": 3
   },
   "file_extension": ".py",
   "mimetype": "text/x-python",
   "name": "python",
   "nbconvert_exporter": "python",
   "pygments_lexer": "ipython3",
   "version": "3.9.2"
  }
 },
 "nbformat": 4,
 "nbformat_minor": 5
}
