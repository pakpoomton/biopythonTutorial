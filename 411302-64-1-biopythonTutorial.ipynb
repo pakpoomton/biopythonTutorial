{
 "cells": [
  {
   "cell_type": "code",
   "execution_count": 1,
   "id": "downtown-witch",
   "metadata": {},
   "outputs": [],
   "source": [
    "from Bio import SeqIO\n",
    "seqFA = list(SeqIO.parse(\"ls_orchid.fa\", \"fasta\"))\n",
    "seqGB = list(SeqIO.parse(\"ls_orchid.gb\", \"genbank\"))"
   ]
  },
  {
   "cell_type": "code",
   "execution_count": 2,
   "id": "hourly-snowboard",
   "metadata": {},
   "outputs": [
    {
     "name": "stdout",
     "output_type": "stream",
     "text": [
      "94\n",
      "94\n"
     ]
    }
   ],
   "source": [
    "print(len(seqFA))\n",
    "print(len(seqGB))"
   ]
  },
  {
   "cell_type": "code",
   "execution_count": 3,
   "id": "studied-section",
   "metadata": {},
   "outputs": [
    {
     "name": "stdout",
     "output_type": "stream",
     "text": [
      "SeqRecord\n",
      "\n",
      "\n",
      "dict_keys(['_seq', 'id', 'name', 'description', 'dbxrefs', 'annotations', '_per_letter_annotations', 'features'])\n",
      "\n",
      "\n",
      "dict_keys(['_seq', 'id', 'name', 'description', 'dbxrefs', 'annotations', '_per_letter_annotations', 'features'])\n"
     ]
    }
   ],
   "source": [
    "seqRecFA0 = seqFA[0]  # get the first record on the list\n",
    "seqRecGB0 = seqGB[0]  # get the first record on the list\n",
    "print(seqRecFA0.__class__.__name__)  # get the name of a class (first entry in the list)\n",
    "print(\"\\n\") # empty line\n",
    "print(vars(seqRecFA0).keys()) # see the list of class attribute in a class\n",
    "print(\"\\n\")  # empty line\n",
    "print(vars(seqRecGB0).keys())"
   ]
  },
  {
   "cell_type": "code",
   "execution_count": 4,
   "id": "accomplished-pierce",
   "metadata": {},
   "outputs": [
    {
     "name": "stdout",
     "output_type": "stream",
     "text": [
      "Z78533.1\n",
      "Z78533\n",
      "C.irapeanum 5.8S rRNA gene and ITS1 and ITS2 DNA\n",
      "Seq\n",
      "GC content: 740\n",
      "GC content: 59.59\n"
     ]
    }
   ],
   "source": [
    "print(seqRecGB0.id)  # print id\n",
    "print(seqRecGB0.name) # print name\n",
    "print(seqRecGB0.description) # print description\n",
    "\n",
    "seqGB0 = seqRecGB0.seq # get the sequence of the first record\n",
    "print(seqRecGB0.seq.__class__.__name__)\n",
    "\n",
    "from Bio.Seq import Seq\n",
    "from Bio.SeqUtils import GC\n",
    "\n",
    "print(\"GC content: %d\" % len(seqGB0))\n",
    "print(\"GC content: %5.2f\" % GC(seqGB0))\n",
    "\n",
    "\n",
    "# print format https://www.python-course.eu/python3_formatted_output.php "
   ]
  },
  {
   "cell_type": "code",
   "execution_count": 5,
   "id": "separated-psychiatry",
   "metadata": {},
   "outputs": [
    {
     "name": "stdout",
     "output_type": "stream",
     "text": [
      "Z78533\n",
      "Z78532\n",
      "Z78531\n",
      "Z78530\n",
      "Z78529\n",
      "Z78527\n",
      "Z78526\n",
      "Z78525\n",
      "Z78524\n",
      "Z78523\n",
      "Z78522\n",
      "Z78521\n",
      "Z78520\n",
      "Z78519\n",
      "Z78518\n",
      "Z78517\n",
      "Z78516\n",
      "Z78515\n",
      "Z78514\n",
      "Z78513\n",
      "Z78512\n",
      "Z78511\n",
      "Z78510\n",
      "Z78509\n",
      "Z78508\n",
      "Z78507\n",
      "Z78506\n",
      "Z78505\n",
      "Z78504\n",
      "Z78503\n",
      "Z78502\n",
      "Z78501\n",
      "Z78500\n",
      "Z78499\n",
      "Z78498\n",
      "Z78497\n",
      "Z78496\n",
      "Z78495\n",
      "Z78494\n",
      "Z78493\n",
      "Z78492\n",
      "Z78491\n",
      "Z78490\n",
      "Z78489\n",
      "Z78488\n",
      "Z78487\n",
      "Z78486\n",
      "Z78485\n",
      "Z78484\n",
      "Z78483\n",
      "Z78482\n",
      "Z78481\n",
      "Z78480\n",
      "Z78479\n",
      "Z78478\n",
      "Z78477\n",
      "Z78476\n",
      "Z78475\n",
      "Z78474\n",
      "Z78473\n",
      "Z78472\n",
      "Z78471\n",
      "Z78470\n",
      "Z78469\n",
      "Z78468\n",
      "Z78467\n",
      "Z78466\n",
      "Z78465\n",
      "Z78464\n",
      "Z78463\n",
      "Z78462\n",
      "Z78461\n",
      "Z78460\n",
      "Z78459\n",
      "Z78458\n",
      "Z78457\n",
      "Z78456\n",
      "Z78455\n",
      "Z78454\n",
      "Z78453\n",
      "Z78452\n",
      "Z78451\n",
      "Z78450\n",
      "Z78449\n",
      "Z78448\n",
      "Z78447\n",
      "Z78446\n",
      "Z78445\n",
      "Z78444\n",
      "Z78443\n",
      "Z78442\n",
      "Z78441\n",
      "Z78440\n",
      "Z78439\n",
      "................\n",
      "['Z78533', 'Z78532', 'Z78531', 'Z78530', 'Z78529', 'Z78527', 'Z78526', 'Z78525', 'Z78524', 'Z78523', 'Z78522', 'Z78521', 'Z78520', 'Z78519', 'Z78518', 'Z78517', 'Z78516', 'Z78515', 'Z78514', 'Z78513', 'Z78512', 'Z78511', 'Z78510', 'Z78509', 'Z78508', 'Z78507', 'Z78506', 'Z78505', 'Z78504', 'Z78503', 'Z78502', 'Z78501', 'Z78500', 'Z78499', 'Z78498', 'Z78497', 'Z78496', 'Z78495', 'Z78494', 'Z78493', 'Z78492', 'Z78491', 'Z78490', 'Z78489', 'Z78488', 'Z78487', 'Z78486', 'Z78485', 'Z78484', 'Z78483', 'Z78482', 'Z78481', 'Z78480', 'Z78479', 'Z78478', 'Z78477', 'Z78476', 'Z78475', 'Z78474', 'Z78473', 'Z78472', 'Z78471', 'Z78470', 'Z78469', 'Z78468', 'Z78467', 'Z78466', 'Z78465', 'Z78464', 'Z78463', 'Z78462', 'Z78461', 'Z78460', 'Z78459', 'Z78458', 'Z78457', 'Z78456', 'Z78455', 'Z78454', 'Z78453', 'Z78452', 'Z78451', 'Z78450', 'Z78449', 'Z78448', 'Z78447', 'Z78446', 'Z78445', 'Z78444', 'Z78443', 'Z78442', 'Z78441', 'Z78440', 'Z78439']\n",
      "................\n",
      "['Z78533', 'Z78532', 'Z78531', 'Z78530', 'Z78529', 'Z78527', 'Z78526', 'Z78525', 'Z78524', 'Z78523', 'Z78522', 'Z78521', 'Z78520', 'Z78519', 'Z78518', 'Z78517', 'Z78516', 'Z78515', 'Z78514', 'Z78513', 'Z78512', 'Z78511', 'Z78510', 'Z78509', 'Z78508', 'Z78507', 'Z78506', 'Z78505', 'Z78504', 'Z78503', 'Z78502', 'Z78501', 'Z78500', 'Z78499', 'Z78498', 'Z78497', 'Z78496', 'Z78495', 'Z78494', 'Z78493', 'Z78492', 'Z78491', 'Z78490', 'Z78489', 'Z78488', 'Z78487', 'Z78486', 'Z78485', 'Z78484', 'Z78483', 'Z78482', 'Z78481', 'Z78480', 'Z78479', 'Z78478', 'Z78477', 'Z78476', 'Z78475', 'Z78474', 'Z78473', 'Z78472', 'Z78471', 'Z78470', 'Z78469', 'Z78468', 'Z78467', 'Z78466', 'Z78465', 'Z78464', 'Z78463', 'Z78462', 'Z78461', 'Z78460', 'Z78459', 'Z78458', 'Z78457', 'Z78456', 'Z78455', 'Z78454', 'Z78453', 'Z78452', 'Z78451', 'Z78450', 'Z78449', 'Z78448', 'Z78447', 'Z78446', 'Z78445', 'Z78444', 'Z78443', 'Z78442', 'Z78441', 'Z78440', 'Z78439']\n"
     ]
    }
   ],
   "source": [
    "# for loop and list comprehension - example 1 name\n",
    "# for loop\n",
    "for seqRec in seqGB:\n",
    "    print(seqRec.name)\n",
    "    \n",
    "print(\"................\")    \n",
    "    \n",
    "# list from for loop\n",
    "nameList1 = []\n",
    "for seqRec in seqGB:\n",
    "    nameList1.append(seqRec.name)\n",
    "print(nameList1)\n",
    "\n",
    "print(\"................\")    \n",
    "\n",
    "# list comprehension\n",
    "nameList2 = [seqRec.name for seqRec in seqGB]\n",
    "print(nameList2)"
   ]
  },
  {
   "cell_type": "code",
   "execution_count": 6,
   "id": "intense-durham",
   "metadata": {},
   "outputs": [
    {
     "name": "stdout",
     "output_type": "stream",
     "text": [
      "59.6\n",
      "48.5\n",
      "57.1\n",
      "47.6\n",
      "47.9\n",
      "50.7\n",
      "50.4\n",
      "50.4\n",
      "47.7\n",
      "50.4\n",
      "49.9\n",
      "49.0\n",
      "49.5\n",
      "49.1\n",
      "51.5\n",
      "49.7\n",
      "49.2\n",
      "53.7\n",
      "56.0\n",
      "55.9\n",
      "56.2\n",
      "56.2\n",
      "57.1\n",
      "55.5\n",
      "56.8\n",
      "56.4\n",
      "56.0\n",
      "55.7\n",
      "55.2\n",
      "56.3\n",
      "56.4\n",
      "56.5\n",
      "57.2\n",
      "51.5\n",
      "51.3\n",
      "52.5\n",
      "51.8\n",
      "53.1\n",
      "50.0\n",
      "51.2\n",
      "50.6\n",
      "50.3\n",
      "51.4\n",
      "51.2\n",
      "51.4\n",
      "51.1\n",
      "51.0\n",
      "50.7\n",
      "50.8\n",
      "49.9\n",
      "52.1\n",
      "50.2\n",
      "50.1\n",
      "50.9\n",
      "51.1\n",
      "51.5\n",
      "50.5\n",
      "43.3\n",
      "50.8\n",
      "51.0\n",
      "49.4\n",
      "50.0\n",
      "48.8\n",
      "49.2\n",
      "50.0\n",
      "50.8\n",
      "50.9\n",
      "49.4\n",
      "50.3\n",
      "51.2\n",
      "32.3\n",
      "50.4\n",
      "50.7\n",
      "50.4\n",
      "51.1\n",
      "50.5\n",
      "50.5\n",
      "49.3\n",
      "50.6\n",
      "50.5\n",
      "49.4\n",
      "50.8\n",
      "50.6\n",
      "50.0\n",
      "50.4\n",
      "51.4\n",
      "50.1\n",
      "50.8\n",
      "48.7\n",
      "39.7\n",
      "50.8\n",
      "50.9\n",
      "49.9\n",
      "50.0\n",
      "................\n",
      "[59.6, 48.5, 57.1, 47.6, 47.9, 50.7, 50.4, 50.4, 47.7, 50.4, 49.9, 49.0, 49.5, 49.1, 51.5, 49.7, 49.2, 53.7, 56.0, 55.9, 56.2, 56.2, 57.1, 55.5, 56.8, 56.4, 56.0, 55.7, 55.2, 56.3, 56.4, 56.5, 57.2, 51.5, 51.3, 52.5, 51.8, 53.1, 50.0, 51.2, 50.6, 50.3, 51.4, 51.2, 51.4, 51.1, 51.0, 50.7, 50.8, 49.9, 52.1, 50.2, 50.1, 50.9, 51.1, 51.5, 50.5, 43.3, 50.8, 51.0, 49.4, 50.0, 48.8, 49.2, 50.0, 50.8, 50.9, 49.4, 50.3, 51.2, 32.3, 50.4, 50.7, 50.4, 51.1, 50.5, 50.5, 49.3, 50.6, 50.5, 49.4, 50.8, 50.6, 50.0, 50.4, 51.4, 50.1, 50.8, 48.7, 39.7, 50.8, 50.9, 49.9, 50.0]\n",
      "................\n",
      "[59.6, 48.5, 57.1, 47.6, 47.9, 50.7, 50.4, 50.4, 47.7, 50.4, 49.9, 49.0, 49.5, 49.1, 51.5, 49.7, 49.2, 53.7, 56.0, 55.9, 56.2, 56.2, 57.1, 55.5, 56.8, 56.4, 56.0, 55.7, 55.2, 56.3, 56.4, 56.5, 57.2, 51.5, 51.3, 52.5, 51.8, 53.1, 50.0, 51.2, 50.6, 50.3, 51.4, 51.2, 51.4, 51.1, 51.0, 50.7, 50.8, 49.9, 52.1, 50.2, 50.1, 50.9, 51.1, 51.5, 50.5, 43.3, 50.8, 51.0, 49.4, 50.0, 48.8, 49.2, 50.0, 50.8, 50.9, 49.4, 50.3, 51.2, 32.3, 50.4, 50.7, 50.4, 51.1, 50.5, 50.5, 49.3, 50.6, 50.5, 49.4, 50.8, 50.6, 50.0, 50.4, 51.4, 50.1, 50.8, 48.7, 39.7, 50.8, 50.9, 49.9, 50.0]\n"
     ]
    }
   ],
   "source": [
    "# for loop and list comprehension - example 2 GC\n",
    "from Bio.SeqUtils import GC\n",
    "\n",
    "# for loop\n",
    "for seqRec in seqGB:\n",
    "    print(round(GC(seqRec.seq),1))\n",
    "    \n",
    "print(\"................\")    \n",
    "    \n",
    "# list from for loop\n",
    "gcList1 = []\n",
    "for seqRec in seqGB:\n",
    "    gcList1.append(round(GC(seqRec.seq),1))\n",
    "print(gcList1)\n",
    "\n",
    "print(\"................\")   \n",
    "\n",
    "# list comprehension\n",
    "gcList2 = [round(GC(seqRec.seq),1) for seqRec in seqGB]\n",
    "print(gcList2)"
   ]
  },
  {
   "cell_type": "code",
   "execution_count": 7,
   "id": "subsequent-friendly",
   "metadata": {},
   "outputs": [
    {
     "name": "stdout",
     "output_type": "stream",
     "text": [
      "Z78533\n",
      "Z78531\n",
      "Z78514\n",
      "Z78513\n",
      "Z78512\n",
      "Z78511\n",
      "Z78510\n",
      "Z78509\n",
      "Z78508\n",
      "Z78507\n",
      "Z78506\n",
      "Z78505\n",
      "Z78504\n",
      "Z78503\n",
      "Z78502\n",
      "Z78501\n",
      "Z78500\n",
      "................\n",
      "['Z78533', 'Z78531', 'Z78514', 'Z78513', 'Z78512', 'Z78511', 'Z78510', 'Z78509', 'Z78508', 'Z78507', 'Z78506', 'Z78505', 'Z78504', 'Z78503', 'Z78502', 'Z78501', 'Z78500']\n",
      "................\n",
      "['Z78533', 'Z78531', 'Z78514', 'Z78513', 'Z78512', 'Z78511', 'Z78510', 'Z78509', 'Z78508', 'Z78507', 'Z78506', 'Z78505', 'Z78504', 'Z78503', 'Z78502', 'Z78501', 'Z78500']\n"
     ]
    }
   ],
   "source": [
    "# for loop and list comprehension - example 3 name with GC > 55\n",
    "from Bio.SeqUtils import GC\n",
    "\n",
    "# for loop\n",
    "for seqRec in seqGB:\n",
    "    if GC(seqRec.seq) > 55:\n",
    "        print(seqRec.name)\n",
    "    \n",
    "print(\"................\")    \n",
    "    \n",
    "# list from for loop\n",
    "highGCNameList1 = []\n",
    "for seqRec in seqGB:\n",
    "    if GC(seqRec.seq) > 55:\n",
    "        highGCNameList1.append(seqRec.name)\n",
    "\n",
    "print(highGCNameList1)\n",
    "\n",
    "print(\"................\")   \n",
    "\n",
    "# list comprehension\n",
    "highGCNameList2 = [seqRec.name for seqRec in seqGB if GC(seqRec.seq) > 55]\n",
    "print(highGCNameList2) \n",
    "\n",
    "\n",
    "# ref https://treyhunner.com/2015/12/python-list-comprehensions-now-in-color/\n"
   ]
  },
  {
   "cell_type": "code",
   "execution_count": 12,
   "id": "academic-jimmy",
   "metadata": {},
   "outputs": [
    {
     "data": {
      "image/png": "[encoded data removed]",
      "text/plain": [
       "<Figure size 432x288 with 1 Axes>"
      ]
     },
     "metadata": {
      "needs_background": "light"
     },
     "output_type": "display_data"
    }
   ],
   "source": [
    "## plot the distribution of GC content\n",
    "# import ploting package\n",
    "from matplotlib import pyplot as plt\n",
    "\n",
    "# get GC content of each sequence entry\n",
    "gcList2 = [round(GC(seqRec.seq),1) for seqRec in seqGB]\n",
    "\n",
    "n_bin = 20 # number of bins\n",
    "plt.hist(gcList2, n_bin)\n",
    "plt.xlabel(\"%GC\")\n",
    "plt.ylabel(\"frequency\")\n",
    "plt.title(\"Distribution of GC Content\")\n",
    "plt.show()"
   ]
  },
  {
   "cell_type": "code",
   "execution_count": 13,
   "id": "emotional-festival",
   "metadata": {},
   "outputs": [
    {
     "data": {
      "image/png": "[encoded data removed]",
      "text/plain": [
       "<Figure size 432x288 with 1 Axes>"
      ]
     },
     "metadata": {
      "needs_background": "light"
     },
     "output_type": "display_data"
    }
   ],
   "source": [
    "# plot relationship between sequence length and GC content\n",
    "# import ploting package\n",
    "from matplotlib import pyplot as plt\n",
    "\n",
    "# get GC content of each sequence entry\n",
    "gcList2 = [round(GC(seqRec.seq),1) for seqRec in seqGB]\n",
    "# get length of each sequence entry\n",
    "lenList = [len(seqRec.seq) for seqRec in seqGB]\n",
    "\n",
    "plt.scatter(lenList, gcList2)\n",
    "plt.xlabel(\"sequence length (bp)\")\n",
    "plt.ylabel(\"GC content (%)\")\n",
    "plt.show()\n",
    "\n"
   ]
  },
  {
   "cell_type": "code",
   "execution_count": null,
   "id": "latin-keyboard",
   "metadata": {},
   "outputs": [],
   "source": []
  }
 ],
 "metadata": {
  "kernelspec": {
   "display_name": "Python 3",
   "language": "python",
   "name": "python3"
  },
  "language_info": {
   "codemirror_mode": {
    "name": "ipython",
    "version": 3
   },
   "file_extension": ".py",
   "mimetype": "text/x-python",
   "name": "python",
   "nbconvert_exporter": "python",
   "pygments_lexer": "ipython3",
   "version": "3.9.2"
  }
 },
 "nbformat": 4,
 "nbformat_minor": 5
}
