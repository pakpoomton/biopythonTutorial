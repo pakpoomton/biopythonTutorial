{
 "cells": [
  {
   "cell_type": "code",
   "execution_count": 3,
   "id": "identical-copper",
   "metadata": {},
   "outputs": [
    {
     "name": "stdout",
     "output_type": "stream",
     "text": [
      "0 G\n",
      "1 A\n",
      "2 T\n",
      "3 C\n",
      "4 G\n"
     ]
    }
   ],
   "source": [
    "from Bio.Seq import Seq\n",
    "my_seq = Seq(\"GATCG\")\n",
    "for index, letter in enumerate(my_seq):\n",
    "    print(\"%i %s\" % (index, letter))"
   ]
  },
  {
   "cell_type": "code",
   "execution_count": 4,
   "id": "geographic-luxury",
   "metadata": {},
   "outputs": [
    {
     "name": "stdout",
     "output_type": "stream",
     "text": [
      "G\n",
      "T\n",
      "G\n",
      "T\n"
     ]
    }
   ],
   "source": [
    "print(my_seq[0])\n",
    "print(my_seq[2])\n",
    "print(my_seq[-1])\n",
    "print(my_seq[2])"
   ]
  },
  {
   "cell_type": "code",
   "execution_count": 5,
   "id": "reliable-notification",
   "metadata": {},
   "outputs": [
    {
     "data": {
      "text/plain": [
       "2"
      ]
     },
     "execution_count": 5,
     "metadata": {},
     "output_type": "execute_result"
    }
   ],
   "source": [
    "# non overlapping string count\n",
    "\"AAAA\".count(\"AA\")"
   ]
  },
  {
   "cell_type": "code",
   "execution_count": 6,
   "id": "romance-argument",
   "metadata": {},
   "outputs": [
    {
     "data": {
      "text/plain": [
       "46.875"
      ]
     },
     "execution_count": 6,
     "metadata": {},
     "output_type": "execute_result"
    }
   ],
   "source": [
    "# calculating GC content\n",
    "my_seq = Seq(\"GATCGATGGGCCTATATAGGATCGAAAATCGC\")\n",
    "100 * float(my_seq.count(\"G\") + my_seq.count(\"C\")) / len(my_seq)"
   ]
  },
  {
   "cell_type": "code",
   "execution_count": 7,
   "id": "bigger-interpretation",
   "metadata": {},
   "outputs": [
    {
     "data": {
      "text/plain": [
       "46.875"
      ]
     },
     "execution_count": 7,
     "metadata": {},
     "output_type": "execute_result"
    }
   ],
   "source": [
    "# directly calculating GC content\n",
    "from Bio.SeqUtils import GC\n",
    "GC(my_seq)"
   ]
  },
  {
   "cell_type": "code",
   "execution_count": 13,
   "id": "specified-language",
   "metadata": {},
   "outputs": [
    {
     "name": "stdout",
     "output_type": "stream",
     "text": [
      "GATGGGCC\n",
      "GATCGATGGGCCTATATAGGATCGAAAATCGC\n",
      "GTGTGCTTTGACAATG\n",
      "GCTGTAGTAAG\n",
      "AGGCATGCATC\n",
      "TAGCTAAGAC\n"
     ]
    }
   ],
   "source": [
    "# slicing sequence\n",
    "my_seq = Seq(\"GATCGATGGGCCTATATAGGATCGAAAATCGC\")\n",
    "print(my_seq[4:12])\n",
    "print(my_seq[0::1]) # all seq, start from position 0\n",
    "print(my_seq[0::2]) # skip every 2 letters get 1 letterl starting from position 0\n",
    "\n",
    "print(my_seq[0::3]) # skip every 3 letters get 1 letter; starting from position 0\n",
    "print(my_seq[1::3]) # skip every 3 letters get 1 letter; starting from position 1\n",
    "print(my_seq[2::3]) # skip every 3 letters get 1 letter; starting from position 2\n"
   ]
  },
  {
   "cell_type": "code",
   "execution_count": 16,
   "id": "emotional-straight",
   "metadata": {},
   "outputs": [
    {
     "name": "stdout",
     "output_type": "stream",
     "text": [
      "GATCGATGGGCCTATATAGGATCGAAAATCGC\n",
      ">Name\n",
      "GATCGATGGGCCTATATAGGATCGAAAATCGC\n",
      "\n"
     ]
    }
   ],
   "source": [
    "# turning seq objects into string\n",
    "\n",
    "str(my_seq)\n",
    "print(my_seq)\n",
    "\n",
    "fasta_format_string = \">Name\\n%s\\n\" % my_seq\n",
    "print(fasta_format_string)"
   ]
  },
  {
   "cell_type": "code",
   "execution_count": 18,
   "id": "mexican-nicholas",
   "metadata": {},
   "outputs": [
    {
     "name": "stdout",
     "output_type": "stream",
     "text": [
      "EVRNAKACGT\n"
     ]
    }
   ],
   "source": [
    "# joing sequences together\n",
    "protein_seq = Seq(\"EVRNAK\")\n",
    "dna_seq = Seq(\"ACGT\")\n",
    "wrongSeq = protein_seq + dna_seq\n",
    "print(wrongSeq)"
   ]
  },
  {
   "cell_type": "code",
   "execution_count": 19,
   "id": "extra-recall",
   "metadata": {},
   "outputs": [
    {
     "name": "stdout",
     "output_type": "stream",
     "text": [
      "ACGTAACCGGTT\n"
     ]
    }
   ],
   "source": [
    "# joining sequence with for loop\n",
    "list_of_seqs = [Seq(\"ACGT\"), Seq(\"AACC\"), Seq(\"GGTT\")]\n",
    "concatenated = Seq(\"\")\n",
    "for s in list_of_seqs:\n",
    "    concatenated += s\n",
    "print(concatenated)"
   ]
  },
  {
   "cell_type": "code",
   "execution_count": 20,
   "id": "radical-sarah",
   "metadata": {},
   "outputs": [
    {
     "data": {
      "text/plain": [
       "Seq('ATGNNNNNNNNNNATCCCGNNNNNNNNNNTTGCA')"
      ]
     },
     "execution_count": 20,
     "metadata": {},
     "output_type": "execute_result"
    }
   ],
   "source": [
    "# joining sequence with 'join' method\n",
    "contigs = [Seq(\"ATG\"), Seq(\"ATCCCG\"), Seq(\"TTGCA\")]\n",
    "spacer = Seq(\"N\"*10)\n",
    "spacer.join(contigs)"
   ]
  },
  {
   "cell_type": "code",
   "execution_count": 24,
   "id": "formal-happiness",
   "metadata": {},
   "outputs": [
    {
     "name": "stdout",
     "output_type": "stream",
     "text": [
      "ACGTACGT\n",
      "acgtacgt\n",
      "False\n",
      "True\n"
     ]
    }
   ],
   "source": [
    "# changing case\n",
    "dna_seq = Seq(\"acgtACGT\")\n",
    "print(dna_seq.upper())\n",
    "print(dna_seq.lower())\n",
    "\n",
    "# check case sensitive\n",
    "print(\"GTAC\" in dna_seq)\n",
    "print(\"GTAC\" in dna_seq.upper())"
   ]
  },
  {
   "cell_type": "code",
   "execution_count": 26,
   "id": "rising-appendix",
   "metadata": {},
   "outputs": [
    {
     "name": "stdout",
     "output_type": "stream",
     "text": [
      "CTAGCTACCCGGATATATCCTAGCTTTTAGCG\n",
      "GCGATTTTCGATCCTATATAGGCCCATCGATC\n"
     ]
    }
   ],
   "source": [
    "# complement and reverse complement sequence\n",
    "\n",
    "my_seq = Seq(\"GATCGATGGGCCTATATAGGATCGAAAATCGC\")\n",
    "print(my_seq.complement())\n",
    "print(my_seq.reverse_complement())\n"
   ]
  },
  {
   "cell_type": "code",
   "execution_count": 28,
   "id": "grateful-minnesota",
   "metadata": {},
   "outputs": [
    {
     "name": "stdout",
     "output_type": "stream",
     "text": [
      "AUGGCCAUUGUAAUGGGCCGCUGAAAGGGUGCCCGAUAG\n",
      "ATGGCCATTGTAATGGGCCGCTGAAAGGGTGCCCGATAG\n"
     ]
    }
   ],
   "source": [
    "# transcription\n",
    "\n",
    "coding_dna = Seq(\"ATGGCCATTGTAATGGGCCGCTGAAAGGGTGCCCGATAG\")\n",
    "template_dna = coding_dna.reverse_complement()\n",
    "\n",
    "messenger_rna = coding_dna.transcribe()\n",
    "print(messenger_rna)\n",
    "\n",
    "print(messenger_rna.back_transcribe())"
   ]
  },
  {
   "cell_type": "code",
   "execution_count": 33,
   "id": "endangered-rotation",
   "metadata": {},
   "outputs": [
    {
     "name": "stdout",
     "output_type": "stream",
     "text": [
      "MAIVMGR*KGAR*\n",
      "MAIVMGR*KGAR*\n",
      "MAIVMGRWKGAR*\n",
      "MAIVMGRWKGAR*\n",
      "MAIVMGR\n"
     ]
    }
   ],
   "source": [
    "# translation\n",
    "print(messenger_rna.translate())\n",
    "print(coding_dna.translate())\n",
    "\n",
    "# choose translation table: https://www.ncbi.nlm.nih.gov/Taxonomy/Utils/wprintgc.cgi\n",
    "print(coding_dna.translate(table=\"Vertebrate Mitochondrial\"))\n",
    "print(coding_dna.translate(table=2)) # use table ID according to the link above\n",
    "print(coding_dna.translate(to_stop=True)) # translate only to a stop codon\n",
    "\n"
   ]
  },
  {
   "cell_type": "code",
   "execution_count": 36,
   "id": "available-harassment",
   "metadata": {},
   "outputs": [
    {
     "name": "stdout",
     "output_type": "stream",
     "text": [
      "Table 1 Standard, SGC0\n",
      "\n",
      "  |  T      |  C      |  A      |  G      |\n",
      "--+---------+---------+---------+---------+--\n",
      "T | TTT F   | TCT S   | TAT Y   | TGT C   | T\n",
      "T | TTC F   | TCC S   | TAC Y   | TGC C   | C\n",
      "T | TTA L   | TCA S   | TAA Stop| TGA Stop| A\n",
      "T | TTG L(s)| TCG S   | TAG Stop| TGG W   | G\n",
      "--+---------+---------+---------+---------+--\n",
      "C | CTT L   | CCT P   | CAT H   | CGT R   | T\n",
      "C | CTC L   | CCC P   | CAC H   | CGC R   | C\n",
      "C | CTA L   | CCA P   | CAA Q   | CGA R   | A\n",
      "C | CTG L(s)| CCG P   | CAG Q   | CGG R   | G\n",
      "--+---------+---------+---------+---------+--\n",
      "A | ATT I   | ACT T   | AAT N   | AGT S   | T\n",
      "A | ATC I   | ACC T   | AAC N   | AGC S   | C\n",
      "A | ATA I   | ACA T   | AAA K   | AGA R   | A\n",
      "A | ATG M(s)| ACG T   | AAG K   | AGG R   | G\n",
      "--+---------+---------+---------+---------+--\n",
      "G | GTT V   | GCT A   | GAT D   | GGT G   | T\n",
      "G | GTC V   | GCC A   | GAC D   | GGC G   | C\n",
      "G | GTA V   | GCA A   | GAA E   | GGA G   | A\n",
      "G | GTG V   | GCG A   | GAG E   | GGG G   | G\n",
      "--+---------+---------+---------+---------+--\n",
      "Table 2 Vertebrate Mitochondrial, SGC1\n",
      "\n",
      "  |  T      |  C      |  A      |  G      |\n",
      "--+---------+---------+---------+---------+--\n",
      "T | TTT F   | TCT S   | TAT Y   | TGT C   | T\n",
      "T | TTC F   | TCC S   | TAC Y   | TGC C   | C\n",
      "T | TTA L   | TCA S   | TAA Stop| TGA W   | A\n",
      "T | TTG L   | TCG S   | TAG Stop| TGG W   | G\n",
      "--+---------+---------+---------+---------+--\n",
      "C | CTT L   | CCT P   | CAT H   | CGT R   | T\n",
      "C | CTC L   | CCC P   | CAC H   | CGC R   | C\n",
      "C | CTA L   | CCA P   | CAA Q   | CGA R   | A\n",
      "C | CTG L   | CCG P   | CAG Q   | CGG R   | G\n",
      "--+---------+---------+---------+---------+--\n",
      "A | ATT I(s)| ACT T   | AAT N   | AGT S   | T\n",
      "A | ATC I(s)| ACC T   | AAC N   | AGC S   | C\n",
      "A | ATA M(s)| ACA T   | AAA K   | AGA Stop| A\n",
      "A | ATG M(s)| ACG T   | AAG K   | AGG Stop| G\n",
      "--+---------+---------+---------+---------+--\n",
      "G | GTT V   | GCT A   | GAT D   | GGT G   | T\n",
      "G | GTC V   | GCC A   | GAC D   | GGC G   | C\n",
      "G | GTA V   | GCA A   | GAA E   | GGA G   | A\n",
      "G | GTG V(s)| GCG A   | GAG E   | GGG G   | G\n",
      "--+---------+---------+---------+---------+--\n",
      "['TAA', 'TAG', 'AGA', 'AGG']\n",
      "['ATT', 'ATC', 'ATA', 'ATG', 'GTG']\n"
     ]
    }
   ],
   "source": [
    "# print out codon table\n",
    "\n",
    "from Bio.Data import CodonTable\n",
    "standard_table = CodonTable.unambiguous_dna_by_id[1]\n",
    "mito_table = CodonTable.unambiguous_dna_by_id[2]\n",
    "\n",
    "print(standard_table)\n",
    "print(mito_table)\n",
    "\n",
    "print(mito_table.stop_codons)\n",
    "print(mito_table.start_codons)"
   ]
  },
  {
   "cell_type": "code",
   "execution_count": 37,
   "id": "liked-destination",
   "metadata": {},
   "outputs": [
    {
     "data": {
      "text/plain": [
       "True"
      ]
     },
     "execution_count": 37,
     "metadata": {},
     "output_type": "execute_result"
    }
   ],
   "source": [
    "## comparing sequence\n",
    "seq1 = Seq(\"ACGT\")\n",
    "\"ACGT\" == seq1 ## check if seq are exactly the same"
   ]
  },
  {
   "cell_type": "code",
   "execution_count": 39,
   "id": "hydraulic-character",
   "metadata": {},
   "outputs": [
    {
     "name": "stdout",
     "output_type": "stream",
     "text": [
      "GCCACGAAGGGCCGCGAAAGGGGCCCGA\n"
     ]
    }
   ],
   "source": [
    "# mutability \n",
    "my_seq = Seq(\"GCCATTGTAATGGGCCGCTGAAAGGGTGCCCGA\")\n",
    "mutable_seq = my_seq.tomutable() # convert to mutable seq we can edit\n",
    "mutable_seq[5] = \"C\"\n",
    "mutable_seq.remove(\"T\")\n",
    "mutable_seq.remove(\"T\")\n",
    "mutable_seq.remove(\"T\")\n",
    "mutable_seq.remove(\"T\")\n",
    "mutable_seq.remove(\"T\")\n",
    "new_seq = mutable_seq.toseq() # convert back to immutable \n",
    "print(new_seq)\n"
   ]
  },
  {
   "cell_type": "code",
   "execution_count": 40,
   "id": "excited-mauritius",
   "metadata": {},
   "outputs": [
    {
     "name": "stdout",
     "output_type": "stream",
     "text": [
      "NNNNNNNNNNNNNNNNNNNN\n"
     ]
    }
   ],
   "source": [
    "# unknown sequence objects\n",
    "from Bio.Seq import UnknownSeq\n",
    "unk_dna = UnknownSeq(20, character=\"N\") ## use N for DNA and X for protein \n",
    "print(unk_dna)"
   ]
  },
  {
   "cell_type": "code",
   "execution_count": null,
   "id": "formal-partner",
   "metadata": {},
   "outputs": [],
   "source": []
  }
 ],
 "metadata": {
  "kernelspec": {
   "display_name": "Python 3",
   "language": "python",
   "name": "python3"
  },
  "language_info": {
   "codemirror_mode": {
    "name": "ipython",
    "version": 3
   },
   "file_extension": ".py",
   "mimetype": "text/x-python",
   "name": "python",
   "nbconvert_exporter": "python",
   "pygments_lexer": "ipython3",
   "version": "3.9.2"
  }
 },
 "nbformat": 4,
 "nbformat_minor": 5
}
