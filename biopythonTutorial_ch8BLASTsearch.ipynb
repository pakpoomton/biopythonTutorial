{
 "cells": [
  {
   "cell_type": "code",
   "execution_count": 2,
   "id": "finnish-athens",
   "metadata": {},
   "outputs": [
    {
     "ename": "ParseError",
     "evalue": "not well-formed (invalid token): line 81, column 86 (<string>)",
     "output_type": "error",
     "traceback": [
      "Traceback \u001b[0;36m(most recent call last)\u001b[0m:\n",
      "  File \u001b[1;32m\"/Library/Frameworks/Python.framework/Versions/3.9/lib/python3.9/site-packages/IPython/core/interactiveshell.py\"\u001b[0m, line \u001b[1;32m3437\u001b[0m, in \u001b[1;35mrun_code\u001b[0m\n    exec(code_obj, self.user_global_ns, self.user_ns)\n",
      "  File \u001b[1;32m\"<ipython-input-2-aa781723b64e>\"\u001b[0m, line \u001b[1;32m3\u001b[0m, in \u001b[1;35m<module>\u001b[0m\n    blast_qresult = SearchIO.read(\"my_blast.xml\", \"blast-xml\")\n",
      "  File \u001b[1;32m\"/Library/Frameworks/Python.framework/Versions/3.9/lib/python3.9/site-packages/Bio/SearchIO/__init__.py\"\u001b[0m, line \u001b[1;32m348\u001b[0m, in \u001b[1;35mread\u001b[0m\n    query_result = next(query_results)\n",
      "  File \u001b[1;32m\"/Library/Frameworks/Python.framework/Versions/3.9/lib/python3.9/site-packages/Bio/SearchIO/__init__.py\"\u001b[0m, line \u001b[1;32m305\u001b[0m, in \u001b[1;35mparse\u001b[0m\n    generator = iterator(source_file, **kwargs)\n",
      "  File \u001b[1;32m\"/Library/Frameworks/Python.framework/Versions/3.9/lib/python3.9/site-packages/Bio/SearchIO/BlastIO/blast_xml.py\"\u001b[0m, line \u001b[1;32m236\u001b[0m, in \u001b[1;35m__init__\u001b[0m\n    self._meta, self._fallback = self._parse_preamble()\n",
      "  File \u001b[1;32m\"/Library/Frameworks/Python.framework/Versions/3.9/lib/python3.9/site-packages/Bio/SearchIO/BlastIO/blast_xml.py\"\u001b[0m, line \u001b[1;32m250\u001b[0m, in \u001b[1;35m_parse_preamble\u001b[0m\n    for event, elem in self.xml_iter:\n",
      "  File \u001b[1;32m\"/Library/Frameworks/Python.framework/Versions/3.9/lib/python3.9/xml/etree/ElementTree.py\"\u001b[0m, line \u001b[1;32m1254\u001b[0m, in \u001b[1;35miterator\u001b[0m\n    yield from pullparser.read_events()\n",
      "  File \u001b[1;32m\"/Library/Frameworks/Python.framework/Versions/3.9/lib/python3.9/xml/etree/ElementTree.py\"\u001b[0m, line \u001b[1;32m1329\u001b[0m, in \u001b[1;35mread_events\u001b[0m\n    raise event\n",
      "\u001b[0;36m  File \u001b[0;32m\"/Library/Frameworks/Python.framework/Versions/3.9/lib/python3.9/xml/etree/ElementTree.py\"\u001b[0;36m, line \u001b[0;32m1301\u001b[0;36m, in \u001b[0;35mfeed\u001b[0;36m\u001b[0m\n\u001b[0;31m    self._parser.feed(data)\u001b[0m\n",
      "\u001b[0;36m  File \u001b[0;32m\"<string>\"\u001b[0;36m, line \u001b[0;32munknown\u001b[0m\n\u001b[0;31mParseError\u001b[0m\u001b[0;31m:\u001b[0m not well-formed (invalid token): line 81, column 86\n"
     ]
    }
   ],
   "source": [
    "## query blast result\n",
    "from Bio import SearchIO\n",
    "blast_qresult = SearchIO.read(\"my_blast.xml\", \"blast-xml\")\n",
    "#print(blast_qresult)"
   ]
  },
  {
   "cell_type": "code",
   "execution_count": null,
   "id": "polyphonic-final",
   "metadata": {},
   "outputs": [],
   "source": []
  }
 ],
 "metadata": {
  "kernelspec": {
   "display_name": "Python 3",
   "language": "python",
   "name": "python3"
  },
  "language_info": {
   "codemirror_mode": {
    "name": "ipython",
    "version": 3
   },
   "file_extension": ".py",
   "mimetype": "text/x-python",
   "name": "python",
   "nbconvert_exporter": "python",
   "pygments_lexer": "ipython3",
   "version": "3.9.2"
  }
 },
 "nbformat": 4,
 "nbformat_minor": 5
}
